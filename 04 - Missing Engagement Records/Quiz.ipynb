{
 "cells": [
  {
   "cell_type": "code",
   "execution_count": 11,
   "metadata": {
    "collapsed": true
   },
   "outputs": [],
   "source": [
    "import unicodecsv\n",
    "\n",
    "def read_csv(filename):\n",
    "    with open(filename, 'rb') as f:\n",
    "        reader = unicodecsv.DictReader(f)\n",
    "        return list(reader)\n",
    "\n",
    "enrollments = read_csv('enrollments.csv')\n",
    "daily_engagement = read_csv('daily_engagement.csv')\n",
    "project_submissions = read_csv('project_submissions.csv')"
   ]
  },
  {
   "cell_type": "code",
   "execution_count": 12,
   "metadata": {
    "collapsed": true
   },
   "outputs": [],
   "source": [
    "for engagement_record in daily_engagement:\n",
    "    engagement_record['account_key'] = engagement_record['acct']\n",
    "    del[engagement_record['acct']]"
   ]
  },
  {
   "cell_type": "code",
   "execution_count": 13,
   "metadata": {
    "collapsed": false
   },
   "outputs": [],
   "source": [
    "def get_unique_students(data):\n",
    "    table = set()\n",
    "    for item in data:\n",
    "        table.add(item['account_key'])\n",
    "    return table\n"
   ]
  },
  {
   "cell_type": "code",
   "execution_count": 18,
   "metadata": {
    "collapsed": false
   },
   "outputs": [
    {
     "name": "stdout",
     "output_type": "stream",
     "text": [
      "71 students canceled the course\n",
      "{u'status': u'canceled', u'is_udacity': u'False', u'is_canceled': u'True', u'join_date': u'2014-11-12', u'account_key': u'1219', u'cancel_date': u'2014-11-12', u'days_to_cancel': u'0'}\n",
      "{u'status': u'canceled', u'is_udacity': u'False', u'is_canceled': u'True', u'join_date': u'2014-11-13', u'account_key': u'871', u'cancel_date': u'2014-11-13', u'days_to_cancel': u'0'}\n",
      "{u'status': u'canceled', u'is_udacity': u'False', u'is_canceled': u'True', u'join_date': u'2014-11-15', u'account_key': u'1218', u'cancel_date': u'2014-11-15', u'days_to_cancel': u'0'}\n",
      "{u'status': u'canceled', u'is_udacity': u'False', u'is_canceled': u'True', u'join_date': u'2014-12-04', u'account_key': u'654', u'cancel_date': u'2014-12-04', u'days_to_cancel': u'0'}\n",
      "{u'status': u'canceled', u'is_udacity': u'False', u'is_canceled': u'True', u'join_date': u'2014-12-04', u'account_key': u'654', u'cancel_date': u'2014-12-04', u'days_to_cancel': u'0'}\n",
      "{u'status': u'canceled', u'is_udacity': u'False', u'is_canceled': u'True', u'join_date': u'2014-12-03', u'account_key': u'654', u'cancel_date': u'2014-12-03', u'days_to_cancel': u'0'}\n",
      "{u'status': u'canceled', u'is_udacity': u'False', u'is_canceled': u'True', u'join_date': u'2014-12-04', u'account_key': u'964', u'cancel_date': u'2014-12-04', u'days_to_cancel': u'0'}\n",
      "{u'status': u'canceled', u'is_udacity': u'False', u'is_canceled': u'True', u'join_date': u'2014-12-09', u'account_key': u'817', u'cancel_date': u'2014-12-09', u'days_to_cancel': u'0'}\n",
      "{u'status': u'canceled', u'is_udacity': u'False', u'is_canceled': u'True', u'join_date': u'2015-01-07', u'account_key': u'1171', u'cancel_date': u'2015-01-07', u'days_to_cancel': u'0'}\n",
      "{u'status': u'canceled', u'is_udacity': u'False', u'is_canceled': u'True', u'join_date': u'2015-01-08', u'account_key': u'884', u'cancel_date': u'2015-01-08', u'days_to_cancel': u'0'}\n",
      "{u'status': u'canceled', u'is_udacity': u'False', u'is_canceled': u'True', u'join_date': u'2014-11-17', u'account_key': u'875', u'cancel_date': u'2014-11-17', u'days_to_cancel': u'0'}\n",
      "{u'status': u'canceled', u'is_udacity': u'False', u'is_canceled': u'True', u'join_date': u'2014-12-04', u'account_key': u'1120', u'cancel_date': u'2014-12-04', u'days_to_cancel': u'0'}\n",
      "{u'status': u'canceled', u'is_udacity': u'False', u'is_canceled': u'True', u'join_date': u'2014-12-05', u'account_key': u'728', u'cancel_date': u'2014-12-05', u'days_to_cancel': u'0'}\n",
      "{u'status': u'canceled', u'is_udacity': u'False', u'is_canceled': u'True', u'join_date': u'2015-01-11', u'account_key': u'1191', u'cancel_date': u'2015-01-11', u'days_to_cancel': u'0'}\n",
      "{u'status': u'canceled', u'is_udacity': u'True', u'is_canceled': u'True', u'join_date': u'2015-01-10', u'account_key': u'1304', u'cancel_date': u'2015-03-10', u'days_to_cancel': u'59'}\n",
      "{u'status': u'canceled', u'is_udacity': u'True', u'is_canceled': u'True', u'join_date': u'2015-03-10', u'account_key': u'1304', u'cancel_date': u'2015-06-17', u'days_to_cancel': u'99'}\n",
      "{u'status': u'canceled', u'is_udacity': u'False', u'is_canceled': u'True', u'join_date': u'2015-01-11', u'account_key': u'1010', u'cancel_date': u'2015-01-11', u'days_to_cancel': u'0'}\n",
      "{u'status': u'canceled', u'is_udacity': u'False', u'is_canceled': u'True', u'join_date': u'2014-11-12', u'account_key': u'841', u'cancel_date': u'2014-11-12', u'days_to_cancel': u'0'}\n",
      "{u'status': u'canceled', u'is_udacity': u'False', u'is_canceled': u'True', u'join_date': u'2014-12-03', u'account_key': u'707', u'cancel_date': u'2014-12-03', u'days_to_cancel': u'0'}\n",
      "{u'status': u'canceled', u'is_udacity': u'False', u'is_canceled': u'True', u'join_date': u'2014-12-04', u'account_key': u'717', u'cancel_date': u'2014-12-04', u'days_to_cancel': u'0'}\n",
      "{u'status': u'canceled', u'is_udacity': u'False', u'is_canceled': u'True', u'join_date': u'2014-12-07', u'account_key': u'727', u'cancel_date': u'2014-12-07', u'days_to_cancel': u'0'}\n",
      "{u'status': u'canceled', u'is_udacity': u'False', u'is_canceled': u'True', u'join_date': u'2015-01-12', u'account_key': u'1273', u'cancel_date': u'2015-01-12', u'days_to_cancel': u'0'}\n",
      "{u'status': u'canceled', u'is_udacity': u'False', u'is_canceled': u'True', u'join_date': u'2014-11-10', u'account_key': u'1238', u'cancel_date': u'2014-11-10', u'days_to_cancel': u'0'}\n",
      "{u'status': u'canceled', u'is_udacity': u'False', u'is_canceled': u'True', u'join_date': u'2015-02-08', u'account_key': u'1044', u'cancel_date': u'2015-02-08', u'days_to_cancel': u'0'}\n",
      "{u'status': u'canceled', u'is_udacity': u'False', u'is_canceled': u'True', u'join_date': u'2015-03-05', u'account_key': u'749', u'cancel_date': u'2015-03-05', u'days_to_cancel': u'0'}\n",
      "{u'status': u'canceled', u'is_udacity': u'False', u'is_canceled': u'True', u'join_date': u'2015-03-07', u'account_key': u'1129', u'cancel_date': u'2015-03-07', u'days_to_cancel': u'0'}\n",
      "{u'status': u'canceled', u'is_udacity': u'False', u'is_canceled': u'True', u'join_date': u'2015-02-11', u'account_key': u'1129', u'cancel_date': u'2015-02-11', u'days_to_cancel': u'0'}\n",
      "{u'status': u'canceled', u'is_udacity': u'False', u'is_canceled': u'True', u'join_date': u'2015-04-06', u'account_key': u'926', u'cancel_date': u'2015-04-06', u'days_to_cancel': u'0'}\n",
      "{u'status': u'canceled', u'is_udacity': u'False', u'is_canceled': u'True', u'join_date': u'2015-05-08', u'account_key': u'711', u'cancel_date': u'2015-05-08', u'days_to_cancel': u'0'}\n",
      "{u'status': u'canceled', u'is_udacity': u'False', u'is_canceled': u'True', u'join_date': u'2015-01-08', u'account_key': u'803', u'cancel_date': u'2015-01-08', u'days_to_cancel': u'0'}\n",
      "{u'status': u'canceled', u'is_udacity': u'False', u'is_canceled': u'True', u'join_date': u'2015-02-06', u'account_key': u'799', u'cancel_date': u'2015-02-06', u'days_to_cancel': u'0'}\n",
      "{u'status': u'canceled', u'is_udacity': u'False', u'is_canceled': u'True', u'join_date': u'2015-02-06', u'account_key': u'789', u'cancel_date': u'2015-02-06', u'days_to_cancel': u'0'}\n",
      "{u'status': u'canceled', u'is_udacity': u'False', u'is_canceled': u'True', u'join_date': u'2015-03-04', u'account_key': u'819', u'cancel_date': u'2015-03-04', u'days_to_cancel': u'0'}\n",
      "{u'status': u'canceled', u'is_udacity': u'False', u'is_canceled': u'True', u'join_date': u'2015-03-04', u'account_key': u'819', u'cancel_date': u'2015-03-04', u'days_to_cancel': u'0'}\n",
      "{u'status': u'canceled', u'is_udacity': u'False', u'is_canceled': u'True', u'join_date': u'2015-05-29', u'account_key': u'902', u'cancel_date': u'2015-05-29', u'days_to_cancel': u'0'}\n",
      "{u'status': u'canceled', u'is_udacity': u'False', u'is_canceled': u'True', u'join_date': u'2015-05-29', u'account_key': u'996', u'cancel_date': u'2015-05-29', u'days_to_cancel': u'0'}\n",
      "{u'status': u'canceled', u'is_udacity': u'False', u'is_canceled': u'True', u'join_date': u'2015-01-12', u'account_key': u'1213', u'cancel_date': u'2015-01-12', u'days_to_cancel': u'0'}\n",
      "{u'status': u'canceled', u'is_udacity': u'False', u'is_canceled': u'True', u'join_date': u'2015-01-12', u'account_key': u'733', u'cancel_date': u'2015-01-12', u'days_to_cancel': u'0'}\n",
      "{u'status': u'canceled', u'is_udacity': u'False', u'is_canceled': u'True', u'join_date': u'2015-05-28', u'account_key': u'1237', u'cancel_date': u'2015-05-28', u'days_to_cancel': u'0'}\n",
      "{u'status': u'canceled', u'is_udacity': u'True', u'is_canceled': u'True', u'join_date': u'2015-06-01', u'account_key': u'1069', u'cancel_date': u'2015-06-01', u'days_to_cancel': u'0'}\n",
      "{u'status': u'canceled', u'is_udacity': u'False', u'is_canceled': u'True', u'join_date': u'2015-06-09', u'account_key': u'1086', u'cancel_date': u'2015-06-09', u'days_to_cancel': u'0'}\n",
      "{u'status': u'canceled', u'is_udacity': u'False', u'is_canceled': u'True', u'join_date': u'2015-03-06', u'account_key': u'1190', u'cancel_date': u'2015-03-06', u'days_to_cancel': u'0'}\n",
      "{u'status': u'canceled', u'is_udacity': u'False', u'is_canceled': u'True', u'join_date': u'2015-04-02', u'account_key': u'914', u'cancel_date': u'2015-04-02', u'days_to_cancel': u'0'}\n",
      "{u'status': u'canceled', u'is_udacity': u'False', u'is_canceled': u'True', u'join_date': u'2015-07-17', u'account_key': u'914', u'cancel_date': u'2015-07-17', u'days_to_cancel': u'0'}\n",
      "{u'status': u'canceled', u'is_udacity': u'False', u'is_canceled': u'True', u'join_date': u'2015-07-17', u'account_key': u'968', u'cancel_date': u'2015-07-17', u'days_to_cancel': u'0'}\n",
      "{u'status': u'canceled', u'is_udacity': u'False', u'is_canceled': u'True', u'join_date': u'2015-07-17', u'account_key': u'1155', u'cancel_date': u'2015-07-17', u'days_to_cancel': u'0'}\n",
      "{u'status': u'canceled', u'is_udacity': u'False', u'is_canceled': u'True', u'join_date': u'2015-05-10', u'account_key': u'766', u'cancel_date': u'2015-05-10', u'days_to_cancel': u'0'}\n",
      "{u'status': u'canceled', u'is_udacity': u'False', u'is_canceled': u'True', u'join_date': u'2015-04-05', u'account_key': u'739', u'cancel_date': u'2015-04-05', u'days_to_cancel': u'0'}\n",
      "{u'status': u'canceled', u'is_udacity': u'False', u'is_canceled': u'True', u'join_date': u'2015-04-07', u'account_key': u'1222', u'cancel_date': u'2015-04-07', u'days_to_cancel': u'0'}\n",
      "{u'status': u'canceled', u'is_udacity': u'False', u'is_canceled': u'True', u'join_date': u'2015-05-31', u'account_key': u'1125', u'cancel_date': u'2015-05-31', u'days_to_cancel': u'0'}\n",
      "{u'status': u'canceled', u'is_udacity': u'False', u'is_canceled': u'True', u'join_date': u'2015-06-07', u'account_key': u'1025', u'cancel_date': u'2015-06-07', u'days_to_cancel': u'0'}\n",
      "{u'status': u'canceled', u'is_udacity': u'False', u'is_canceled': u'True', u'join_date': u'2015-06-06', u'account_key': u'750', u'cancel_date': u'2015-06-06', u'days_to_cancel': u'0'}\n",
      "{u'status': u'canceled', u'is_udacity': u'False', u'is_canceled': u'True', u'join_date': u'2015-08-11', u'account_key': u'889', u'cancel_date': u'2015-08-11', u'days_to_cancel': u'0'}\n",
      "{u'status': u'canceled', u'is_udacity': u'False', u'is_canceled': u'True', u'join_date': u'2014-11-10', u'account_key': u'737', u'cancel_date': u'2014-11-10', u'days_to_cancel': u'0'}\n",
      "{u'status': u'canceled', u'is_udacity': u'False', u'is_canceled': u'True', u'join_date': u'2014-11-10', u'account_key': u'878', u'cancel_date': u'2014-11-10', u'days_to_cancel': u'0'}\n",
      "{u'status': u'canceled', u'is_udacity': u'False', u'is_canceled': u'True', u'join_date': u'2015-02-07', u'account_key': u'981', u'cancel_date': u'2015-02-07', u'days_to_cancel': u'0'}\n",
      "{u'status': u'current', u'is_udacity': u'True', u'is_canceled': u'False', u'join_date': u'2015-02-25', u'account_key': u'1101', u'cancel_date': u'', u'days_to_cancel': u''}\n",
      "{u'status': u'canceled', u'is_udacity': u'False', u'is_canceled': u'True', u'join_date': u'2015-03-09', u'account_key': u'1148', u'cancel_date': u'2015-03-09', u'days_to_cancel': u'0'}\n",
      "{u'status': u'canceled', u'is_udacity': u'False', u'is_canceled': u'True', u'join_date': u'2015-03-11', u'account_key': u'1186', u'cancel_date': u'2015-03-11', u'days_to_cancel': u'0'}\n",
      "{u'status': u'canceled', u'is_udacity': u'False', u'is_canceled': u'True', u'join_date': u'2014-12-06', u'account_key': u'725', u'cancel_date': u'2014-12-06', u'days_to_cancel': u'0'}\n",
      "{u'status': u'canceled', u'is_udacity': u'False', u'is_canceled': u'True', u'join_date': u'2015-04-04', u'account_key': u'1145', u'cancel_date': u'2015-04-04', u'days_to_cancel': u'0'}\n",
      "{u'status': u'canceled', u'is_udacity': u'False', u'is_canceled': u'True', u'join_date': u'2015-01-08', u'account_key': u'802', u'cancel_date': u'2015-01-08', u'days_to_cancel': u'0'}\n",
      "{u'status': u'canceled', u'is_udacity': u'False', u'is_canceled': u'True', u'join_date': u'2015-01-08', u'account_key': u'664', u'cancel_date': u'2015-01-08', u'days_to_cancel': u'0'}\n",
      "{u'status': u'canceled', u'is_udacity': u'False', u'is_canceled': u'True', u'join_date': u'2015-01-12', u'account_key': u'997', u'cancel_date': u'2015-01-12', u'days_to_cancel': u'0'}\n",
      "{u'status': u'canceled', u'is_udacity': u'False', u'is_canceled': u'True', u'join_date': u'2015-05-12', u'account_key': u'870', u'cancel_date': u'2015-05-12', u'days_to_cancel': u'0'}\n",
      "{u'status': u'canceled', u'is_udacity': u'False', u'is_canceled': u'True', u'join_date': u'2015-01-13', u'account_key': u'1284', u'cancel_date': u'2015-01-13', u'days_to_cancel': u'0'}\n",
      "{u'status': u'canceled', u'is_udacity': u'False', u'is_canceled': u'True', u'join_date': u'2015-02-09', u'account_key': u'1079', u'cancel_date': u'2015-02-09', u'days_to_cancel': u'0'}\n",
      "{u'status': u'canceled', u'is_udacity': u'False', u'is_canceled': u'True', u'join_date': u'2015-07-14', u'account_key': u'1063', u'cancel_date': u'2015-07-14', u'days_to_cancel': u'0'}\n",
      "{u'status': u'canceled', u'is_udacity': u'False', u'is_canceled': u'True', u'join_date': u'2015-07-20', u'account_key': u'1270', u'cancel_date': u'2015-07-20', u'days_to_cancel': u'0'}\n",
      "{u'status': u'canceled', u'is_udacity': u'False', u'is_canceled': u'True', u'join_date': u'2015-06-03', u'account_key': u'1291', u'cancel_date': u'2015-06-03', u'days_to_cancel': u'0'}\n",
      "{u'status': u'canceled', u'is_udacity': u'False', u'is_canceled': u'True', u'join_date': u'2015-06-09', u'account_key': u'1241', u'cancel_date': u'2015-06-09', u'days_to_cancel': u'0'}\n"
     ]
    }
   ],
   "source": [
    "unique_engagement_students = get_unique_students(daily_engagement)\n",
    "list_students = []\n",
    "\n",
    "for enrollment in enrollments:\n",
    "    student = enrollment['account_key']\n",
    "    if student not in unique_engagement_students:\n",
    "            list_students.append(enrollment)\n",
    "\n",
    "print(str(len(list_students)) + \" students canceled the course\")\n",
    "for student in list_students:\n",
    "    print(student)\n",
    "        "
   ]
  },
  {
   "cell_type": "code",
   "execution_count": null,
   "metadata": {
    "collapsed": true
   },
   "outputs": [],
   "source": []
  }
 ],
 "metadata": {
  "anaconda-cloud": {},
  "kernelspec": {
   "display_name": "Python [Root]",
   "language": "python",
   "name": "Python [Root]"
  },
  "language_info": {
   "codemirror_mode": {
    "name": "ipython",
    "version": 3
   },
   "file_extension": ".py",
   "mimetype": "text/x-python",
   "name": "python",
   "nbconvert_exporter": "python",
   "pygments_lexer": "ipython3",
   "version": "3.5.2"
  }
 },
 "nbformat": 4,
 "nbformat_minor": 0
}
