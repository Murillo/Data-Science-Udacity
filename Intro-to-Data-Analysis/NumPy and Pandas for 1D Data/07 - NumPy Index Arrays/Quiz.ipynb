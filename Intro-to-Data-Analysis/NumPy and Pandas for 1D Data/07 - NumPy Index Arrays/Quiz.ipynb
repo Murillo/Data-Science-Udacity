{
 "cells": [
  {
   "cell_type": "code",
   "execution_count": 1,
   "metadata": {
    "collapsed": true
   },
   "outputs": [],
   "source": [
    "import numpy as np"
   ]
  },
  {
   "cell_type": "code",
   "execution_count": 4,
   "metadata": {
    "collapsed": false
   },
   "outputs": [
    {
     "name": "stdout",
     "output_type": "stream",
     "text": [
      "[1 2]\n",
      "[1 3]\n",
      "[2 3 2]\n",
      "[2 3 2]\n",
      "[False  True False  True False]\n",
      "[2 4]\n"
     ]
    }
   ],
   "source": [
    "# Using index arrays\n",
    "if True:\n",
    "    a = np.array([1, 2, 3, 4])\n",
    "    b = np.array([True, True, False, False])\n",
    "    \n",
    "    print (a[b])\n",
    "    print (a[np.array([True, False, True, False])])\n",
    "    \n",
    "# Creating the index array using vectorized operations\n",
    "if True:\n",
    "    a = np.array([1, 2, 3, 2, 1])\n",
    "    b = (a >= 2)\n",
    "    \n",
    "    print (a[b])\n",
    "    print (a[a >= 2])\n",
    "    \n",
    "# Creating the index array using vectorized operations on another array\n",
    "if True:\n",
    "    a = np.array([1, 2, 3, 4, 5])\n",
    "    b = np.array([1, 2, 3, 2, 1])\n",
    "    \n",
    "    print (b == 2)\n",
    "    print (a[b == 2])"
   ]
  },
  {
   "cell_type": "code",
   "execution_count": 18,
   "metadata": {
    "collapsed": false
   },
   "outputs": [],
   "source": [
    "# Time spent in the classroom in the first week for 20 students\n",
    "time_spent = np.array([10, 10, 10, 60, 60, 60])\n",
    "\n",
    "# Days to cancel for 20 students\n",
    "days_to_cancel = np.array([ 5,  5,  5, 10, 10, 10])"
   ]
  },
  {
   "cell_type": "code",
   "execution_count": 25,
   "metadata": {
    "collapsed": true
   },
   "outputs": [],
   "source": [
    "def mean_time_for_paid_students(time_spent, days_to_cancel):\n",
    "    return time_spent[days_to_cancel >= 7].mean()"
   ]
  },
  {
   "cell_type": "code",
   "execution_count": 27,
   "metadata": {
    "collapsed": false
   },
   "outputs": [
    {
     "name": "stdout",
     "output_type": "stream",
     "text": [
      "60.0\n"
     ]
    }
   ],
   "source": [
    "print(mean_time_for_paid_students(time_spent, days_to_cancel))"
   ]
  },
  {
   "cell_type": "code",
   "execution_count": null,
   "metadata": {
    "collapsed": true
   },
   "outputs": [],
   "source": []
  }
 ],
 "metadata": {
  "kernelspec": {
   "display_name": "Python [Root]",
   "language": "python",
   "name": "Python [Root]"
  },
  "language_info": {
   "codemirror_mode": {
    "name": "ipython",
    "version": 3
   },
   "file_extension": ".py",
   "mimetype": "text/x-python",
   "name": "python",
   "nbconvert_exporter": "python",
   "pygments_lexer": "ipython3",
   "version": "3.5.2"
  }
 },
 "nbformat": 4,
 "nbformat_minor": 0
}
