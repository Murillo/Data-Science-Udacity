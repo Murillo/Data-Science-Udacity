{
 "cells": [
  {
   "cell_type": "code",
   "execution_count": 1,
   "metadata": {
    "collapsed": true
   },
   "outputs": [],
   "source": [
    "import pandas as pd"
   ]
  },
  {
   "cell_type": "code",
   "execution_count": 3,
   "metadata": {
    "collapsed": false
   },
   "outputs": [
    {
     "name": "stdout",
     "output_type": "stream",
     "text": [
      "       Admit  Gender Dept  Freq\n",
      "0   Admitted    Male    A   512\n",
      "1   Rejected    Male    A   313\n",
      "2   Admitted  Female    A    89\n",
      "3   Rejected  Female    A    19\n",
      "4   Admitted    Male    B   353\n",
      "5   Rejected    Male    B   207\n",
      "6   Admitted  Female    B    17\n",
      "7   Rejected  Female    B     8\n",
      "8   Admitted    Male    C   120\n",
      "9   Rejected    Male    C   205\n",
      "10  Admitted  Female    C   202\n",
      "11  Rejected  Female    C   391\n",
      "12  Admitted    Male    D   138\n",
      "13  Rejected    Male    D   279\n",
      "14  Admitted  Female    D   131\n",
      "15  Rejected  Female    D   244\n",
      "16  Admitted    Male    E    53\n",
      "17  Rejected    Male    E   138\n",
      "18  Admitted  Female    E    94\n",
      "19  Rejected  Female    E   299\n",
      "20  Admitted    Male    F    22\n",
      "21  Rejected    Male    F   351\n",
      "22  Admitted  Female    F    24\n",
      "23  Rejected  Female    F   317\n"
     ]
    }
   ],
   "source": [
    "ds = pd.read_csv(\"Berkeley.csv\")\n",
    "print(ds)"
   ]
  },
  {
   "cell_type": "code",
   "execution_count": 9,
   "metadata": {
    "collapsed": false
   },
   "outputs": [],
   "source": [
    "ds = ds[ds['Admit'] == \"Admitted\"]"
   ]
  },
  {
   "cell_type": "code",
   "execution_count": 10,
   "metadata": {
    "collapsed": false
   },
   "outputs": [
    {
     "name": "stdout",
     "output_type": "stream",
     "text": [
      "       Admit  Gender Dept  Freq\n",
      "0   Admitted    Male    A   512\n",
      "2   Admitted  Female    A    89\n",
      "4   Admitted    Male    B   353\n",
      "6   Admitted  Female    B    17\n",
      "8   Admitted    Male    C   120\n",
      "10  Admitted  Female    C   202\n",
      "12  Admitted    Male    D   138\n",
      "14  Admitted  Female    D   131\n",
      "16  Admitted    Male    E    53\n",
      "18  Admitted  Female    E    94\n",
      "20  Admitted    Male    F    22\n",
      "22  Admitted  Female    F    24\n"
     ]
    }
   ],
   "source": [
    "print(ds)"
   ]
  }
 ],
 "metadata": {
  "anaconda-cloud": {},
  "kernelspec": {
   "display_name": "Python [Root]",
   "language": "python",
   "name": "Python [Root]"
  },
  "language_info": {
   "codemirror_mode": {
    "name": "ipython",
    "version": 3
   },
   "file_extension": ".py",
   "mimetype": "text/x-python",
   "name": "python",
   "nbconvert_exporter": "python",
   "pygments_lexer": "ipython3",
   "version": "3.5.2"
  }
 },
 "nbformat": 4,
 "nbformat_minor": 0
}
