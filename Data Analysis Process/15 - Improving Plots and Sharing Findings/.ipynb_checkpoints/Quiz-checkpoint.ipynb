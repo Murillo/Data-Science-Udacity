{
 "cells": [
  {
   "cell_type": "markdown",
   "metadata": {},
   "source": [
    "### Improving Plots and Sharing Findings"
   ]
  },
  {
   "cell_type": "code",
   "execution_count": 2,
   "metadata": {
    "collapsed": true
   },
   "outputs": [],
   "source": [
    "# Import libraries\n",
    "import unicodecsv\n",
    "from datetime import datetime as dt"
   ]
  },
  {
   "cell_type": "code",
   "execution_count": 3,
   "metadata": {
    "collapsed": true
   },
   "outputs": [],
   "source": [
    "# Create functions\n",
    "\n",
    "# Open csv files and convert to list\n",
    "def read_csv(filename):\n",
    "    with open(filename, 'rb') as f:\n",
    "        reader = unicodecsv.DictReader(f)\n",
    "        return list(reader)\n",
    "\n",
    "# Takes a date as a string, and returns a Python datetime object. \n",
    "# If there is no date given, returns None\n",
    "def parse_date(date):\n",
    "    if date == '':\n",
    "        return None\n",
    "    else:\n",
    "        return dt.strptime(date, '%Y-%m-%d')\n",
    "    \n",
    "# Takes a string which is either an empty string or represents an integer,\n",
    "# and returns an int or None.\n",
    "def parse_maybe_int(i):\n",
    "    if i == '':\n",
    "        return None\n",
    "    else:\n",
    "        return int(i)\n",
    "    \n",
    "# Return a bool type that represent if the student's engagement is \n",
    "# in first week of program\n",
    "def within_one_week(join_date, engagement_date):\n",
    "    time_delta = engagement_date - join_date\n",
    "    return time_delta.days >= 0 and time_delta.days < 7\n",
    "\n",
    "# Return new list without the trial students\n",
    "def remove_free_trial_cancels(data, list_paid_students):\n",
    "    new_data = []\n",
    "    for data_point in data:\n",
    "        if data_point['account_key'] in list_paid_students:\n",
    "            new_data.append(data_point)\n",
    "    return new_data"
   ]
  },
  {
   "cell_type": "code",
   "execution_count": 4,
   "metadata": {
    "collapsed": false
   },
   "outputs": [],
   "source": [
    "# Set data in variables\n",
    "enrollments = read_csv('enrollments.csv')\n",
    "daily_engagement = read_csv('daily_engagement.csv')\n",
    "project_submissions = read_csv('project_submissions.csv')"
   ]
  },
  {
   "cell_type": "code",
   "execution_count": 5,
   "metadata": {
    "collapsed": false
   },
   "outputs": [],
   "source": [
    "# Rename column acct to account_key in enrollments list\n",
    "for engagement_record in daily_engagement:\n",
    "    engagement_record['account_key'] = engagement_record['acct']\n",
    "    del[engagement_record['acct']]"
   ]
  },
  {
   "cell_type": "code",
   "execution_count": 6,
   "metadata": {
    "collapsed": false,
    "scrolled": true
   },
   "outputs": [],
   "source": [
    "list_students_udacity = set()\n",
    "non_udacity_enrollments = []\n",
    "\n",
    "# Clean up the data types in the enrollments table\n",
    "for enrollment in enrollments:\n",
    "    if enrollment['is_udacity'] == 'False':\n",
    "        enrollment['cancel_date'] = parse_date(enrollment['cancel_date'])\n",
    "        enrollment['days_to_cancel'] = parse_maybe_int(enrollment['days_to_cancel'])\n",
    "        enrollment['is_canceled'] = enrollment['is_canceled'] == 'True'\n",
    "        enrollment['is_udacity'] = enrollment['is_udacity'] == 'True'\n",
    "        enrollment['join_date'] = parse_date(enrollment['join_date'])\n",
    "        non_udacity_enrollments.append(enrollment)\n",
    "    else:\n",
    "        list_students_udacity.add(enrollment['account_key'])"
   ]
  },
  {
   "cell_type": "code",
   "execution_count": 7,
   "metadata": {
    "collapsed": false
   },
   "outputs": [],
   "source": [
    "non_udacity_engagement = []\n",
    "\n",
    "# Clean up the data types in the engagement table\n",
    "for engagement_record in daily_engagement:\n",
    "    if engagement_record['account_key'] not in list_students_udacity:\n",
    "        engagement_record['lessons_completed'] = int(float(engagement_record['lessons_completed']))\n",
    "        engagement_record['num_courses_visited'] = int(float(engagement_record['num_courses_visited']))\n",
    "        engagement_record['projects_completed'] = int(float(engagement_record['projects_completed']))\n",
    "        engagement_record['total_minutes_visited'] = float(engagement_record['total_minutes_visited'])\n",
    "        engagement_record['utc_date'] = parse_date(engagement_record['utc_date'])\n",
    "        non_udacity_engagement.append(engagement_record)\n",
    "    "
   ]
  },
  {
   "cell_type": "code",
   "execution_count": 8,
   "metadata": {
    "collapsed": false
   },
   "outputs": [],
   "source": [
    "non_udacity_submissions = []\n",
    "\n",
    "# Clean up the data types in the submissions table\n",
    "for submission in project_submissions:\n",
    "    if submission['account_key'] not in list_students_udacity:\n",
    "        submission['completion_date'] = parse_date(submission['completion_date'])\n",
    "        submission['creation_date'] = parse_date(submission['creation_date'])\n",
    "        non_udacity_submissions.append(submission)\n"
   ]
  },
  {
   "cell_type": "code",
   "execution_count": 9,
   "metadata": {
    "collapsed": false,
    "scrolled": true
   },
   "outputs": [
    {
     "name": "stdout",
     "output_type": "stream",
     "text": [
      "Total of paid students: 995\n"
     ]
    }
   ],
   "source": [
    "paid_students = {}\n",
    "for enrollment in non_udacity_enrollments:\n",
    "    if (not enrollment['is_canceled'] or\n",
    "            enrollment['days_to_cancel'] > 7):\n",
    "        account_key = enrollment['account_key']\n",
    "        enrollment_date = enrollment['join_date']\n",
    "        if (account_key not in paid_students or\n",
    "                enrollment_date > paid_students[account_key]):\n",
    "            paid_students[account_key] = enrollment_date\n",
    "\n",
    "print(\"Total of paid students: \" + str(len(paid_students)))"
   ]
  },
  {
   "cell_type": "code",
   "execution_count": 10,
   "metadata": {
    "collapsed": false
   },
   "outputs": [
    {
     "name": "stdout",
     "output_type": "stream",
     "text": [
      "Paid students and trial students: 1622\n",
      "Paid students and trial students: 135656\n",
      "Paid students and trial students: 3634\n",
      "Only paid students: 1293\n",
      "Only paid students: 134549\n",
      "Only paid students: 3618\n"
     ]
    }
   ],
   "source": [
    "print (\"Paid students and trial students: \" + str(len(non_udacity_enrollments)))\n",
    "print (\"Paid students and trial students: \" + str(len(non_udacity_engagement)))\n",
    "print (\"Paid students and trial students: \" + str(len(non_udacity_submissions)))\n",
    "\n",
    "paid_enrollments = remove_free_trial_cancels(non_udacity_enrollments, paid_students)\n",
    "paid_engagement = remove_free_trial_cancels(non_udacity_engagement, paid_students)\n",
    "paid_submissions = remove_free_trial_cancels(non_udacity_submissions, paid_students)\n",
    "\n",
    "print (\"Only paid students: \" + str(len(paid_enrollments)))\n",
    "print (\"Only paid students: \" + str(len(paid_engagement)))\n",
    "print (\"Only paid students: \" + str(len(paid_submissions)))"
   ]
  },
  {
   "cell_type": "code",
   "execution_count": 11,
   "metadata": {
    "collapsed": true
   },
   "outputs": [],
   "source": [
    "for engagement_record in paid_engagement:\n",
    "    if engagement_record['num_courses_visited'] > 0:\n",
    "        engagement_record['has_visited'] = 1\n",
    "    else:\n",
    "        engagement_record['has_visited'] = 0"
   ]
  },
  {
   "cell_type": "code",
   "execution_count": 12,
   "metadata": {
    "collapsed": false
   },
   "outputs": [
    {
     "name": "stdout",
     "output_type": "stream",
     "text": [
      "Engagement of paid students in first week: 6919\n"
     ]
    }
   ],
   "source": [
    "paid_engagement_in_first_week = []\n",
    "for engagement_record in paid_engagement:\n",
    "    account_key = engagement_record['account_key']\n",
    "    join_date = paid_students[account_key]\n",
    "    engagement_record_date = engagement_record['utc_date']\n",
    "\n",
    "    if within_one_week(join_date, engagement_record_date):\n",
    "        paid_engagement_in_first_week.append(engagement_record)\n",
    "\n",
    "print(\"Engagement of paid students in first week: \" + str(len(paid_engagement_in_first_week)))"
   ]
  },
  {
   "cell_type": "code",
   "execution_count": 13,
   "metadata": {
    "collapsed": false
   },
   "outputs": [],
   "source": [
    "from collections import defaultdict\n",
    "\n",
    "def group_data(data, key_name):\n",
    "    grouped_data = defaultdict(list)\n",
    "    for data_point in data:\n",
    "        key = data_point[key_name]\n",
    "        grouped_data[key].append(data_point)\n",
    "    return grouped_data"
   ]
  },
  {
   "cell_type": "code",
   "execution_count": 14,
   "metadata": {
    "collapsed": false
   },
   "outputs": [],
   "source": [
    "def sum_grouped_items(grouped_data, field_name):\n",
    "    summed_data = {}\n",
    "    for key, data_points in grouped_data.items():\n",
    "        total = 0\n",
    "        for data_point in data_points:\n",
    "            total += data_point[field_name]\n",
    "        summed_data[key] = total\n",
    "    return summed_data"
   ]
  },
  {
   "cell_type": "code",
   "execution_count": 15,
   "metadata": {
    "collapsed": false
   },
   "outputs": [
    {
     "name": "stdout",
     "output_type": "stream",
     "text": [
      "Populating the interactive namespace from numpy and matplotlib\n"
     ]
    }
   ],
   "source": [
    "%pylab inline\n",
    "import matplotlib.pyplot as plt\n",
    "import numpy as np\n",
    "\n",
    "def describe_data(data):\n",
    "    print ('Mean:', np.mean(list(data)))\n",
    "    print ('Standard deviation:', np.std(list(data)))\n",
    "    print ('Minimum:', np.min(list(data)))\n",
    "    print ('Maximum:', np.max(list(data)))\n",
    "    plt.hist(list(data))\n",
    "    \n"
   ]
  },
  {
   "cell_type": "code",
   "execution_count": 16,
   "metadata": {
    "collapsed": false
   },
   "outputs": [
    {
     "name": "stdout",
     "output_type": "stream",
     "text": [
      "Mean: 2.86733668342\n",
      "Standard deviation: 2.25519800292\n",
      "Minimum: 0\n",
      "Maximum: 7\n"
     ]
    },
    {
     "data": {
      "image/png": "[encoded data removed]",
      "text/plain": [
       "<matplotlib.figure.Figure at 0x7fc86b389a20>"
      ]
     },
     "metadata": {},
     "output_type": "display_data"
    }
   ],
   "source": [
    "engagement_by_account = group_data(paid_engagement_in_first_week, 'account_key')\n",
    "\n",
    "lessons_completed_by_account = sum_grouped_items(engagement_by_account, 'has_visited')\n",
    "describe_data(lessons_completed_by_account.values())"
   ]
  },
  {
   "cell_type": "code",
   "execution_count": 17,
   "metadata": {
    "collapsed": false
   },
   "outputs": [
    {
     "data": {
      "text/plain": [
       "{'account_key': '256',\n",
       " 'assigned_rating': 'PASSED',\n",
       " 'completion_date': datetime.datetime(2015, 1, 20, 0, 0),\n",
       " 'creation_date': datetime.datetime(2015, 1, 20, 0, 0),\n",
       " 'lesson_key': '3176718735',\n",
       " 'processing_state': 'EVALUATED'}"
      ]
     },
     "execution_count": 17,
     "metadata": {},
     "output_type": "execute_result"
    }
   ],
   "source": [
    "paid_submissions[2]"
   ]
  },
  {
   "cell_type": "code",
   "execution_count": 18,
   "metadata": {
    "collapsed": false
   },
   "outputs": [
    {
     "name": "stdout",
     "output_type": "stream",
     "text": [
      "647\n",
      "6919\n",
      "4527\n",
      "2392\n"
     ]
    }
   ],
   "source": [
    "subway_project_lesson_keys = ['746169184','3176718735']\n",
    "pass_subway_project = set()\n",
    "\n",
    "for submissions in paid_submissions:\n",
    "    if submissions['lesson_key'] in subway_project_lesson_keys:\n",
    "        if submissions['assigned_rating'] == 'PASSED' or submissions['assigned_rating'] == 'DISTINCTION':\n",
    "            pass_subway_project.add(submissions['account_key'])\n",
    "\n",
    "print(len(pass_subway_project))\n",
    "print(len(paid_engagement_in_first_week))\n",
    "\n",
    "list_passing_engagement = []\n",
    "list_non_passing_engagement = []   \n",
    "for engagement_record in paid_engagement_in_first_week:\n",
    "    if engagement_record['account_key'] in pass_subway_project:\n",
    "        list_passing_engagement.append(engagement_record)\n",
    "    else:\n",
    "        list_non_passing_engagement.append(engagement_record)\n",
    "\n",
    "passing_engagement = len(list_passing_engagement)\n",
    "non_passing_engagement = len(list_non_passing_engagement)\n",
    "\n",
    "print(passing_engagement)\n",
    "print(non_passing_engagement)"
   ]
  },
  {
   "cell_type": "code",
   "execution_count": 19,
   "metadata": {
    "collapsed": false
   },
   "outputs": [
    {
     "data": {
      "text/plain": [
       "{'account_key': '0',\n",
       " 'has_visited': 1,\n",
       " 'lessons_completed': 0,\n",
       " 'num_courses_visited': 1,\n",
       " 'projects_completed': 0,\n",
       " 'total_minutes_visited': 11.6793745,\n",
       " 'utc_date': datetime.datetime(2015, 1, 9, 0, 0)}"
      ]
     },
     "execution_count": 19,
     "metadata": {},
     "output_type": "execute_result"
    }
   ],
   "source": [
    "list_passing_engagement[0]"
   ]
  },
  {
   "cell_type": "code",
   "execution_count": null,
   "metadata": {
    "collapsed": false
   },
   "outputs": [],
   "source": [
    "print ('Days visited')\n",
    "print ('non-passing students:')\n",
    "non_passing_engagement_by_account = group_data(list_non_passing_engagement, 'account_key')\n",
    "non_passing_visits = sum_grouped_items(non_passing_engagement_by_account,'has_visited')\n",
    "describe_data(non_passing_visits.values())\n"
   ]
  },
  {
   "cell_type": "code",
   "execution_count": 89,
   "metadata": {
    "collapsed": false
   },
   "outputs": [
    {
     "name": "stdout",
     "output_type": "stream",
     "text": [
      "passing students:\n",
      "Mean: 3.38485316847\n",
      "Standard deviation: 2.25882147092\n",
      "Minimum: 0\n",
      "Maximum: 7\n"
     ]
    },
    {
     "data": {
      "image/png": "[encoded data removed]",
      "text/plain": [
       "<matplotlib.figure.Figure at 0x7f9f7fdaa470>"
      ]
     },
     "metadata": {},
     "output_type": "display_data"
    }
   ],
   "source": [
    "print ('passing students:')\n",
    "passing_engagement_by_account = group_data(list_passing_engagement, 'account_key')\n",
    "passing_visits = sum_grouped_items(passing_engagement_by_account,'has_visited')\n",
    "describe_data(passing_visits.values())"
   ]
  },
  {
   "cell_type": "code",
   "execution_count": 90,
   "metadata": {
    "collapsed": false
   },
   "outputs": [
    {
     "name": "stdout",
     "output_type": "stream",
     "text": [
      "Minutes spend\n",
      "non-passing students:\n",
      "Mean: 143.326474267\n",
      "Standard deviation: 269.538619011\n",
      "Minimum: 0.0\n",
      "Maximum: 1768.52274933\n"
     ]
    },
    {
     "data": {
      "image/png": "[encoded data removed]",
      "text/plain": [
       "<matplotlib.figure.Figure at 0x7f9f7d9bd9b0>"
      ]
     },
     "metadata": {},
     "output_type": "display_data"
    }
   ],
   "source": [
    "print ('Minutes spend')\n",
    "print ('non-passing students:')\n",
    "non_passing_engagement_by_account = group_data(list_non_passing_engagement, 'account_key')\n",
    "non_passing_visits = sum_grouped_items(non_passing_engagement_by_account,'total_minutes_visited')\n",
    "describe_data(non_passing_visits.values())\n"
   ]
  },
  {
   "cell_type": "code",
   "execution_count": 91,
   "metadata": {
    "collapsed": false
   },
   "outputs": [
    {
     "name": "stdout",
     "output_type": "stream",
     "text": [
      "passing students:\n",
      "Mean: 394.586046484\n",
      "Standard deviation: 448.499519327\n",
      "Minimum: 0.0\n",
      "Maximum: 3564.7332645\n"
     ]
    },
    {
     "data": {
      "image/png": "[encoded data removed]",
      "text/plain": [
       "<matplotlib.figure.Figure at 0x7f9f7d8356a0>"
      ]
     },
     "metadata": {},
     "output_type": "display_data"
    }
   ],
   "source": [
    "print ('passing students:')\n",
    "passing_engagement_by_account = group_data(list_passing_engagement, 'account_key')\n",
    "passing_visits = sum_grouped_items(passing_engagement_by_account,'total_minutes_visited')\n",
    "describe_data(passing_visits.values())"
   ]
  },
  {
   "cell_type": "code",
   "execution_count": 92,
   "metadata": {
    "collapsed": false
   },
   "outputs": [
    {
     "name": "stdout",
     "output_type": "stream",
     "text": [
      "lessons completed\n",
      "non-passing students:\n",
      "Mean: 0.862068965517\n",
      "Standard deviation: 2.54915994183\n",
      "Minimum: 0\n",
      "Maximum: 27\n"
     ]
    },
    {
     "data": {
      "image/png": "[encoded data removed]",
      "text/plain": [
       "<matplotlib.figure.Figure at 0x7f9f7d829908>"
      ]
     },
     "metadata": {},
     "output_type": "display_data"
    }
   ],
   "source": [
    "print ('lessons completed')\n",
    "print ('non-passing students:')\n",
    "non_passing_engagement_by_account = group_data(list_non_passing_engagement, 'account_key')\n",
    "non_passing_visits = sum_grouped_items(non_passing_engagement_by_account,'lessons_completed')\n",
    "describe_data(non_passing_visits.values())\n"
   ]
  },
  {
   "cell_type": "code",
   "execution_count": 93,
   "metadata": {
    "collapsed": false
   },
   "outputs": [
    {
     "name": "stdout",
     "output_type": "stream",
     "text": [
      "passing students:\n",
      "Mean: 2.05255023184\n",
      "Standard deviation: 3.14222705558\n",
      "Minimum: 0\n",
      "Maximum: 36\n"
     ]
    },
    {
     "data": {
      "image/png": "[encoded data removed]",
      "text/plain": [
       "<matplotlib.figure.Figure at 0x7f9f7d836cc0>"
      ]
     },
     "metadata": {},
     "output_type": "display_data"
    }
   ],
   "source": [
    "print ('passing students:')\n",
    "passing_engagement_by_account = group_data(list_passing_engagement, 'account_key')\n",
    "passing_visits = sum_grouped_items(passing_engagement_by_account,'lessons_completed')\n",
    "describe_data(passing_visits.values())"
   ]
  },
  {
   "cell_type": "code",
   "execution_count": 1,
   "metadata": {
    "collapsed": true
   },
   "outputs": [],
   "source": [
    "import seaborn as sns"
   ]
  },
  {
   "cell_type": "code",
   "execution_count": null,
   "metadata": {
    "collapsed": true
   },
   "outputs": [],
   "source": [
    "plt.hist(non_passing_visits.values(), bins=8)\n",
    "plt.xlabel('Number of days')\n",
    "plt.title('Distribution of classroom visits in the first week ' + \n",
    "          'for students who do not pass the subway project')"
   ]
  }
 ],
 "metadata": {
  "anaconda-cloud": {},
  "kernelspec": {
   "display_name": "Python [Root]",
   "language": "python",
   "name": "Python [Root]"
  },
  "language_info": {
   "codemirror_mode": {
    "name": "ipython",
    "version": 3
   },
   "file_extension": ".py",
   "mimetype": "text/x-python",
   "name": "python",
   "nbconvert_exporter": "python",
   "pygments_lexer": "ipython3",
   "version": "3.5.2"
  }
 },
 "nbformat": 4,
 "nbformat_minor": 0
}
