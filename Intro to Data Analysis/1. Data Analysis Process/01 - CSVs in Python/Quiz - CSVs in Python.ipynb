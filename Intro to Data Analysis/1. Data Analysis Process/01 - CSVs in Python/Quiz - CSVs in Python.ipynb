{
 "cells": [
  {
   "cell_type": "code",
   "execution_count": 8,
   "metadata": {
    "collapsed": false
   },
   "outputs": [
    {
     "name": "stdout",
     "output_type": "stream",
     "text": [
      "{u'status': u'canceled', u'is_udacity': u'True', u'is_canceled': u'True', u'join_date': u'2014-11-10', u'account_key': u'448', u'cancel_date': u'2015-01-14', u'days_to_cancel': u'65'}\n",
      "{u'lessons_completed': u'0.0', u'num_courses_visited': u'1.0', u'total_minutes_visited': u'11.6793745', u'projects_completed': u'0.0', u'acct': u'0', u'utc_date': u'2015-01-09'}\n",
      "{u'lesson_key': u'3176718735', u'processing_state': u'EVALUATED', u'account_key': u'256', u'assigned_rating': u'UNGRADED', u'completion_date': u'2015-01-16', u'creation_date': u'2015-01-14'}\n"
     ]
    }
   ],
   "source": [
    "import unicodecsv\n",
    "\n",
    "\n",
    "enrollments_filename = 'enrollments.csv'\n",
    "engagement_filename = 'daily_engagement.csv'\n",
    "submissions_filename = 'project_submissions.csv'\n",
    "\n",
    "def read_csv(filename):\n",
    "    with open(filename, 'rb') as f:\n",
    "        reader = unicodecsv.DictReader(f)\n",
    "        return list(reader)\n",
    "    \n",
    "    \n",
    "print read_csv(enrollments_filename)[0]\n",
    "print read_csv(engagement_filename)[0]\n",
    "print read_csv(submissions_filename)[0]\n",
    "\n",
    "    \n"
   ]
  },
  {
   "cell_type": "code",
   "execution_count": 19,
   "metadata": {
    "collapsed": false
   },
   "outputs": [
    {
     "name": "stdout",
     "output_type": "stream",
     "text": [
      "   account_key    status   join_date cancel_date  days_to_cancel is_udacity  \\\n",
      "0          448  canceled  2014-11-10  2015-01-14            65.0       True   \n",
      "1          448  canceled  2014-11-05  2014-11-10             5.0       True   \n",
      "\n",
      "  is_canceled  \n",
      "0        True  \n",
      "1        True  \n",
      "   acct    utc_date  num_courses_visited  total_minutes_visited  \\\n",
      "0     0  2015-01-09                  1.0              11.679374   \n",
      "1     0  2015-01-10                  2.0              37.284887   \n",
      "\n",
      "   lessons_completed  projects_completed  \n",
      "0                0.0                 0.0  \n",
      "1                0.0                 0.0  \n",
      "  creation_date completion_date assigned_rating  account_key  lesson_key  \\\n",
      "0    2015-01-14      2015-01-16        UNGRADED          256  3176718735   \n",
      "1    2015-01-10      2015-01-13      INCOMPLETE          256  3176718735   \n",
      "\n",
      "  processing_state  \n",
      "0        EVALUATED  \n",
      "1        EVALUATED  \n"
     ]
    }
   ],
   "source": [
    "import pandas as pd\n",
    "\n",
    "def read_csv_panda(filename):\n",
    "    new_data = pd.read_csv(filename)\n",
    "    new_data.shape\n",
    "    return new_data\n",
    "\n",
    "print(read_csv_panda(enrollments_filename).head(2))\n",
    "print(read_csv_panda(engagement_filename).head(2))\n",
    "print(read_csv_panda(submissions_filename).head(2))\n",
    "\n",
    "\n"
   ]
  },
  {
   "cell_type": "code",
   "execution_count": null,
   "metadata": {
    "collapsed": false
   },
   "outputs": [],
   "source": []
  },
  {
   "cell_type": "code",
   "execution_count": null,
   "metadata": {
    "collapsed": true
   },
   "outputs": [],
   "source": []
  }
 ],
 "metadata": {
  "kernelspec": {
   "display_name": "Python [Root]",
   "language": "python",
   "name": "Python [Root]"
  },
  "language_info": {
   "codemirror_mode": {
    "name": "ipython",
    "version": 3
   },
   "file_extension": ".py",
   "mimetype": "text/x-python",
   "name": "python",
   "nbconvert_exporter": "python",
   "pygments_lexer": "ipython3",
   "version": "3.5.2"
  }
 },
 "nbformat": 4,
 "nbformat_minor": 0
}
