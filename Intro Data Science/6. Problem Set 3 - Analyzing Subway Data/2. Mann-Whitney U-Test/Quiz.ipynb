{
 "cells": [
  {
   "cell_type": "markdown",
   "metadata": {},
   "source": [
    "# Quiz: 3 - Mann-Whitney U-Test\n",
    "\n",
    "This function will consume the turnstile_weather dataframe containing\n",
    "our final turnstile weather data. \n",
    "    \n",
    "You will want to take the means and run the Mann Whitney U-test on the \n",
    "ENTRIESn_hourly column in the turnstile_weather dataframe.\n",
    "    \n",
    "This function should return:\n",
    "* 1) the mean of entries with rain\n",
    "* 2) the mean of entries without rain\n",
    "* 3) the Mann-Whitney U-statistic and p-value comparing the number of entries with rain and the number of entries without rain\n",
    "    \n",
    "You should feel free to use scipy's Mann-Whitney implementation, and you \n",
    "might also find it useful to use numpy's mean function.\n",
    "    \n",
    "Here are the functions' documentation:\n",
    "\n",
    "http://docs.scipy.org/doc/scipy/reference/generated/scipy.stats.mannwhitneyu.html\n",
    "\n",
    "http://docs.scipy.org/doc/numpy/reference/generated/numpy.mean.html\n",
    "    \n",
    "You can look at the final turnstile weather data at the link below:\n",
    "\n",
    "https://s3.amazonaws.com/content.udacity-data.com/courses/ud359/turnstile_data_master_with_weather.csv\n",
    "    \n",
    "### Libraries\n",
    "* [numpy](http://www.numpy.org/)\n",
    "* [matplotlib.pyplot](https://matplotlib.org/users/pyplot_tutorial.html)\n",
    "* [pandas](http://pandas.pydata.org/)"
   ]
  },
  {
   "cell_type": "code",
   "execution_count": 11,
   "metadata": {
    "collapsed": true
   },
   "outputs": [],
   "source": [
    "import numpy as np\n",
    "import scipy\n",
    "import scipy.stats\n",
    "import pandas\n",
    "\n",
    "def mann_whitney_plus_means(turnstile_weather):\n",
    "    ### YOUR CODE HERE ###\n",
    "    \n",
    "    # Entries dataframe\n",
    "    entries_without_rain = turnstile_weather[\"ENTRIESn_hourly\"][turnstile_weather[\"rain\"] == 0]\n",
    "    entries_with_rain = turnstile_weather[\"ENTRIESn_hourly\"][turnstile_weather[\"rain\"] == 1]\n",
    "    \n",
    "    # Mean with numpy\n",
    "    without_rain_mean = np.mean(entries_without_rain)\n",
    "    with_rain_mean = np.mean(entries_with_rain)\n",
    "    \n",
    "    # Mann-Whitney U-Test\n",
    "    U, p = scipy.stats.mannwhitneyu(entries_without_rain, entries_with_rain)\n",
    "    \n",
    "    return with_rain_mean, without_rain_mean, U, p \n"
   ]
  },
  {
   "cell_type": "code",
   "execution_count": 12,
   "metadata": {
    "collapsed": false
   },
   "outputs": [
    {
     "data": {
      "text/plain": [
       "(1105.4463767458733, 1090.278780151855, 1924409167.0, 0.024999912793489721)"
      ]
     },
     "execution_count": 12,
     "metadata": {},
     "output_type": "execute_result"
    }
   ],
   "source": [
    "ds = pandas.read_csv(\"turnstile_data_master_with_weather.csv\")\n",
    "mann_whitney_plus_means(ds)"
   ]
  }
 ],
 "metadata": {
  "anaconda-cloud": {},
  "kernelspec": {
   "display_name": "Python [Root]",
   "language": "python",
   "name": "Python [Root]"
  },
  "language_info": {
   "codemirror_mode": {
    "name": "ipython",
    "version": 3
   },
   "file_extension": ".py",
   "mimetype": "text/x-python",
   "name": "python",
   "nbconvert_exporter": "python",
   "pygments_lexer": "ipython3",
   "version": "3.5.2"
  }
 },
 "nbformat": 4,
 "nbformat_minor": 0
}
