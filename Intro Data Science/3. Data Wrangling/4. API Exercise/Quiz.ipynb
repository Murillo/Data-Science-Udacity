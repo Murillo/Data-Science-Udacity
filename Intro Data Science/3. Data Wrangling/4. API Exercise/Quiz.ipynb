{
 "cells": [
  {
   "cell_type": "markdown",
   "metadata": {},
   "source": [
    "## Quiz API Exercise\n",
    "\n",
    "#### You don't need to modify the url provided as input to your procedure. It will include the correct url parameters such as 'country'. Your main task here is to navigate through the data structure returned by the last.fm API in order to find and return the #1 top artist in Spain. You do not need an API key to complete this lesson through the browser. The URL is passed in for you. It will include parameters such as 'country'. Your main task here is to navigate through the data structure returned by the last.fm API in order to find and return the #1 top artist in Spain. One very helpful python library for this exercise is pprint."
   ]
  },
  {
   "cell_type": "code",
   "execution_count": 1,
   "metadata": {
    "collapsed": true
   },
   "outputs": [],
   "source": [
    "import json\n",
    "import requests\n",
    "\n",
    "def api_get_request(url):\n",
    "    # In this exercise, you want to call the last.fm API to get a list of the\n",
    "    # top artists in Spain. The grader will supply the URL as an argument to\n",
    "    # the function; you do not need to construct the address or call this\n",
    "    # function in your grader submission.\n",
    "    # \n",
    "    # Once you've done this, return the name of the number 1 top artist in\n",
    "    # Spain.\n",
    "    \n",
    "    data = requests.get(url).text\n",
    "    data = json.loads(data)\n",
    "    return data['topartists']['artist'][0]['name']\n"
   ]
  }
 ],
 "metadata": {
  "kernelspec": {
   "display_name": "Python [Root]",
   "language": "python",
   "name": "Python [Root]"
  },
  "language_info": {
   "codemirror_mode": {
    "name": "ipython",
    "version": 3
   },
   "file_extension": ".py",
   "mimetype": "text/x-python",
   "name": "python",
   "nbconvert_exporter": "python",
   "pygments_lexer": "ipython3",
   "version": "3.5.2"
  }
 },
 "nbformat": 4,
 "nbformat_minor": 0
}
