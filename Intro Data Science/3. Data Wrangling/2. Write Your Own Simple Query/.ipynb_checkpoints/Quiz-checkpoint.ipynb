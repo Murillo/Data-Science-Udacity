{
 "cells": [
  {
   "cell_type": "markdown",
   "metadata": {},
   "source": [
    "# Write Your Own Simple Query\n",
    "\n",
    "#### Libraries:\n",
    "* [Pandas](http://pandas.pydata.org/)\n",
    "* [PandasSql](https://pypi.python.org/pypi/pandasql)\n"
   ]
  },
  {
   "cell_type": "code",
   "execution_count": 16,
   "metadata": {
    "collapsed": true
   },
   "outputs": [],
   "source": [
    "import pandas\n",
    "import pandasql\n",
    "\n",
    "def select_first_50(filename):\n",
    "    # Read in our aadhaar_data csv to a pandas dataframe.  Afterwards, we rename the columns\n",
    "    # by replacing spaces with underscores and setting all characters to lowercase, so the\n",
    "    # column names more closely resemble columns names one might find in a table.\n",
    "    aadhaar_data = pandas.read_csv(filename)\n",
    "    aadhaar_data.rename(columns = lambda x: x.replace(' ', '_').lower(), inplace=True)\n",
    "\n",
    "    # Select out the first 50 values for \"registrar\" and \"enrolment_agency\"\n",
    "    # in the aadhaar_data table using SQL syntax. \n",
    "    #\n",
    "    # Note that \"enrolment_agency\" is spelled with one l. Also, the order\n",
    "    # of the select does matter. Make sure you select registrar then enrolment agency\n",
    "    # in your query.\n",
    "    #\n",
    "    # You can download a copy of the aadhaar data that we are passing \n",
    "    # into this exercise below:\n",
    "    # https://s3.amazonaws.com/content.udacity-data.com/courses/ud359/aadhaar_data.csv\n",
    "    q = \"\"\"SELECT registrar, enrolment_agency FROM aadhaar_data LIMIT 50\"\"\"\n",
    "    \n",
    "    #Execute your SQL command against the pandas frame\n",
    "    aadhaar_solution = pandasql.sqldf(q.lower(), locals())\n",
    "    return aadhaar_solution    "
   ]
  },
  {
   "cell_type": "code",
   "execution_count": 17,
   "metadata": {
    "collapsed": false
   },
   "outputs": [
    {
     "name": "stdout",
     "output_type": "stream",
     "text": [
      "         registrar             enrolment_agency\n",
      "0   Allahabad Bank            Tera Software Ltd\n",
      "1   Allahabad Bank            Tera Software Ltd\n",
      "2   Allahabad Bank  Vakrangee Softwares Limited\n",
      "3   Allahabad Bank  Vakrangee Softwares Limited\n",
      "4   Allahabad Bank  Vakrangee Softwares Limited\n",
      "5   Allahabad Bank  Vakrangee Softwares Limited\n",
      "6   Allahabad Bank  Vakrangee Softwares Limited\n",
      "7   Allahabad Bank  Vakrangee Softwares Limited\n",
      "8   Allahabad Bank  Vakrangee Softwares Limited\n",
      "9   Allahabad Bank  Vakrangee Softwares Limited\n",
      "10  Allahabad Bank  Vakrangee Softwares Limited\n",
      "11  Allahabad Bank  Vakrangee Softwares Limited\n",
      "12  Allahabad Bank  Vakrangee Softwares Limited\n",
      "13  Allahabad Bank  Vakrangee Softwares Limited\n",
      "14  Allahabad Bank  Vakrangee Softwares Limited\n",
      "15  Allahabad Bank  Vakrangee Softwares Limited\n",
      "16  Allahabad Bank  Vakrangee Softwares Limited\n",
      "17  Allahabad Bank  Vakrangee Softwares Limited\n",
      "18  Allahabad Bank  Vakrangee Softwares Limited\n",
      "19  Allahabad Bank  Vakrangee Softwares Limited\n",
      "20  Allahabad Bank  Vakrangee Softwares Limited\n",
      "21  Allahabad Bank  Vakrangee Softwares Limited\n",
      "22  Allahabad Bank  Vakrangee Softwares Limited\n",
      "23  Allahabad Bank  Vakrangee Softwares Limited\n",
      "24  Allahabad Bank  Vakrangee Softwares Limited\n",
      "25  Allahabad Bank  Vakrangee Softwares Limited\n",
      "26  Allahabad Bank  Vakrangee Softwares Limited\n",
      "27  Allahabad Bank  Vakrangee Softwares Limited\n",
      "28  Allahabad Bank  Vakrangee Softwares Limited\n",
      "29  Allahabad Bank  Vakrangee Softwares Limited\n",
      "30  Allahabad Bank  Vakrangee Softwares Limited\n",
      "31  Allahabad Bank  Vakrangee Softwares Limited\n",
      "32  Allahabad Bank  Vakrangee Softwares Limited\n",
      "33  Allahabad Bank  Vakrangee Softwares Limited\n",
      "34  Allahabad Bank  Vakrangee Softwares Limited\n",
      "35  Allahabad Bank  Vakrangee Softwares Limited\n",
      "36  Allahabad Bank  Vakrangee Softwares Limited\n",
      "37  Allahabad Bank  Vakrangee Softwares Limited\n",
      "38  Allahabad Bank  Vakrangee Softwares Limited\n",
      "39  Allahabad Bank  Vakrangee Softwares Limited\n",
      "40  Allahabad Bank  Vakrangee Softwares Limited\n",
      "41  Allahabad Bank  Vakrangee Softwares Limited\n",
      "42  Allahabad Bank  Vakrangee Softwares Limited\n",
      "43  Allahabad Bank  Vakrangee Softwares Limited\n",
      "44  Allahabad Bank  Vakrangee Softwares Limited\n",
      "45  Allahabad Bank  Vakrangee Softwares Limited\n",
      "46  Allahabad Bank  Vakrangee Softwares Limited\n",
      "47  Allahabad Bank  Vakrangee Softwares Limited\n",
      "48  Allahabad Bank  Vakrangee Softwares Limited\n",
      "49  Allahabad Bank  Vakrangee Softwares Limited\n"
     ]
    }
   ],
   "source": [
    "print (select_first_50('aadhaar_data.csv'))"
   ]
  }
 ],
 "metadata": {
  "anaconda-cloud": {},
  "kernelspec": {
   "display_name": "Python [Root]",
   "language": "python",
   "name": "Python [Root]"
  },
  "language_info": {
   "codemirror_mode": {
    "name": "ipython",
    "version": 3
   },
   "file_extension": ".py",
   "mimetype": "text/x-python",
   "name": "python",
   "nbconvert_exporter": "python",
   "pygments_lexer": "ipython3",
   "version": "3.5.2"
  }
 },
 "nbformat": 4,
 "nbformat_minor": 0
}
