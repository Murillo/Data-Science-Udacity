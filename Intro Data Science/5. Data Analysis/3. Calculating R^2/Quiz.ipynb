{
 "cells": [
  {
   "cell_type": "markdown",
   "metadata": {},
   "source": [
    "# Quiz: Calculating R^2\n",
    "\n",
    "<div style=\"float: left; margin: 20px 20px 0 0\">\n",
    " <img src=\"GetImage.png\" style=\"width: 450px;\" />\n",
    "</div>\n",
    "\n",
    "Write a function that, given two input numpy arrays, 'data', and 'predictions,'\n",
    "\n",
    "returns the coefficient of determination, R^2, for the model that produced predictions.\n",
    " \n",
    "Numpy has a couple of functions -- np.mean() and np.sum() --\n",
    "\n",
    "that you might find useful, but you don't have to use them.\n",
    "\n",
    "\n",
    "\n",
    "### Library\n",
    "* [numpy](http://www.numpy.org/)"
   ]
  },
  {
   "cell_type": "code",
   "execution_count": 1,
   "metadata": {
    "collapsed": true
   },
   "outputs": [],
   "source": [
    "import numpy as np\n",
    "\n",
    "def compute_r_squared(data, predictions):\n",
    "    r_squared = 1 - np.sum((data - predictions) ** 2) / np.sum((data - np.mean(data)) ** 2)\n",
    "    return r_squared"
   ]
  }
 ],
 "metadata": {
  "anaconda-cloud": {},
  "kernelspec": {
   "display_name": "Python [Root]",
   "language": "python",
   "name": "Python [Root]"
  },
  "language_info": {
   "codemirror_mode": {
    "name": "ipython",
    "version": 3
   },
   "file_extension": ".py",
   "mimetype": "text/x-python",
   "name": "python",
   "nbconvert_exporter": "python",
   "pygments_lexer": "ipython3",
   "version": "3.5.2"
  }
 },
 "nbformat": 4,
 "nbformat_minor": 0
}
