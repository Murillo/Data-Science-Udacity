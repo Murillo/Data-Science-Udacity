{
 "cells": [
  {
   "cell_type": "markdown",
   "metadata": {},
   "source": [
    "# Quiz: Welch's T-Test Exercise\n",
    "\n",
    "Performs a t-test on two sets of baseball data (left-handed and right-handed hitters).\n",
    "\n",
    "You will be given a csv file that has three columns.  A player's\n",
    "name, handedness (L for lefthanded or R for righthanded) and their\n",
    "career batting average (called 'avg'). You can look at the csv\n",
    "file by downloading the baseball_stats file from Downloadables below.\n",
    "\n",
    "[baseball_stats.csv](https://www.udacity.com/api/nodes/702578673/supplemental_media/baseball-statscsv/download)\n",
    "\n",
    "Write a function that will read that the csv file into a pandas data frame,\n",
    "and run Welch's t-test on the two cohorts defined by handedness.\n",
    "\n",
    "One cohort should be a data frame of right-handed batters. And the other\n",
    "cohort should be a data frame of left-handed batters.\n",
    "\n",
    "We have included the scipy.stats library to help you write\n",
    "or implement Welch's t-test:\n",
    "http://docs.scipy.org/doc/scipy/reference/stats.html\n",
    "\n",
    "With a significance level of 95%, if there is no difference\n",
    "between the two cohorts, return a tuple consisting of\n",
    "True, and then the tuple returned by scipy.stats.ttest.  \n",
    "\n",
    "If there is a difference, return a tuple consisting of\n",
    "False, and then the tuple returned by scipy.stats.ttest.\n",
    "\n",
    "For example, the tuple that you return may look like:\n",
    "(True, (9.93570222, 0.000023))\n",
    "\n",
    "### Libraries\n",
    "* [numpy](http://www.numpy.org/)\n",
    "* [scipy.stats](https://docs.scipy.org/doc/scipy/reference/stats.html)\n",
    "* [pandas](http://pandas.pydata.org/)"
   ]
  },
  {
   "cell_type": "code",
   "execution_count": 20,
   "metadata": {
    "collapsed": true
   },
   "outputs": [],
   "source": [
    "import numpy as np\n",
    "import scipy.stats as st\n",
    "import pandas as pd\n",
    "\n",
    "def compare_averages(filename):\n",
    "    dataset = pd.read_csv(filename)\n",
    "    lefthanded  = dataset[dataset['handedness'] == 'L']\n",
    "    righthanded = dataset[dataset['handedness'] == 'R']\n",
    "    result = st.ttest_ind(lefthanded['avg'], righthanded['avg'], equal_var=False)\n",
    "    \n",
    "    if result[1] >= 0.05:\n",
    "        return(True,result)\n",
    "    else:\n",
    "        return(False,result)"
   ]
  },
  {
   "cell_type": "code",
   "execution_count": 21,
   "metadata": {
    "collapsed": false
   },
   "outputs": [
    {
     "name": "stdout",
     "output_type": "stream",
     "text": [
      "(False, Ttest_indResult(statistic=9.9357022262420944, pvalue=3.8102742258887383e-23))\n"
     ]
    }
   ],
   "source": [
    "print (compare_averages('baseball_stats.csv'))"
   ]
  }
 ],
 "metadata": {
  "anaconda-cloud": {},
  "kernelspec": {
   "display_name": "Python [Root]",
   "language": "python",
   "name": "Python [Root]"
  },
  "language_info": {
   "codemirror_mode": {
    "name": "ipython",
    "version": 3
   },
   "file_extension": ".py",
   "mimetype": "text/x-python",
   "name": "python",
   "nbconvert_exporter": "python",
   "pygments_lexer": "ipython3",
   "version": "3.5.2"
  }
 },
 "nbformat": 4,
 "nbformat_minor": 0
}
