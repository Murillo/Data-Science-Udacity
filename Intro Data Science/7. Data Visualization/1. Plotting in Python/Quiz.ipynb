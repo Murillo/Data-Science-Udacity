{
 "cells": [
  {
   "cell_type": "markdown",
   "metadata": {},
   "source": [
    "\n",
    "\n"
   ]
  },
  {
   "cell_type": "code",
   "execution_count": 2,
   "metadata": {
    "collapsed": true
   },
   "outputs": [],
   "source": [
    "from pandas import *\n",
    "from ggplot import *\n",
    "\n",
    "import pandas\n",
    "\n",
    "def lineplot(hr_year_csv):\n",
    "    \n",
    "    # A csv file will be passed in as an argument which\n",
    "    # contains two columns -- 'HR' (the number of homerun hits)\n",
    "    # and 'yearID' (the year in which the homeruns were hit).\n",
    "    #\n",
    "    # Fill out the body of this function, lineplot, to use the\n",
    "    # passed-in csv file, hr_year.csv, and create a\n",
    "    # chart with points connected by lines, both colored 'red',\n",
    "    # showing the number of HR by year.\n",
    "    #\n",
    "    # You will want to first load the csv file into a pandas dataframe\n",
    "    # and use the pandas dataframe along with ggplot to create your visualization\n",
    "    #\n",
    "    # You can check out the data in the csv file at the link below:\n",
    "    # https://s3.amazonaws.com/content.udacity-data.com/courses/ud359/hr_year.csv\n",
    "    #\n",
    "    # You can read more about ggplot at the following link:\n",
    "    # https://github.com/yhat/ggplot/\n",
    "    \n",
    "    dt = pandas.read_csv(hr_year_csv)\n",
    "    gg = ggplot(dt, aes('yearID', 'HR')) + geom_point(color = 'red') + geom_line(color='red') + \\\n",
    "      ggtitle('The number of homerun') + xlab('Year') + ylab('HR')\n",
    "    return gg\n"
   ]
  }
 ],
 "metadata": {
  "kernelspec": {
   "display_name": "Python 3",
   "language": "python",
   "name": "python3"
  },
  "language_info": {
   "codemirror_mode": {
    "name": "ipython",
    "version": 3
   },
   "file_extension": ".py",
   "mimetype": "text/x-python",
   "name": "python",
   "nbconvert_exporter": "python",
   "pygments_lexer": "ipython3",
   "version": "3.6.1"
  }
 },
 "nbformat": 4,
 "nbformat_minor": 2
}
