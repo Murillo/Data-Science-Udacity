{
 "cells": [
  {
   "cell_type": "code",
   "execution_count": 18,
   "metadata": {
    "collapsed": true
   },
   "outputs": [],
   "source": [
    "import numpy\n",
    "from pandas import DataFrame, Series\n",
    "\n",
    "\n",
    "def numpy_dot():\n",
    "    '''\n",
    "    Imagine a point system in which each country is awarded 4 points for each\n",
    "    gold medal,  2 points for each silver medal, and one point for each \n",
    "    bronze medal.  \n",
    "\n",
    "    Using the numpy.dot function, create a new dataframe called \n",
    "    'olympic_points_df' that includes:\n",
    "        a) a column called 'country_name' with the country name\n",
    "        b) a column called 'points' with the total number of points the country\n",
    "           earned at the Sochi olympics.\n",
    "           \n",
    "    You do not need to call the function in your code when running it in the\n",
    "    browser - the grader will do that automatically when you submit or test it.\n",
    "    '''\n",
    "\n",
    "    countries = ['Russian Fed.', 'Norway', 'Canada', 'United States',\n",
    "                 'Netherlands', 'Germany', 'Switzerland', 'Belarus',\n",
    "                 'Austria', 'France', 'Poland', 'China', 'Korea', \n",
    "                 'Sweden', 'Czech Republic', 'Slovenia', 'Japan',\n",
    "                 'Finland', 'Great Britain', 'Ukraine', 'Slovakia',\n",
    "                 'Italy', 'Latvia', 'Australia', 'Croatia', 'Kazakhstan']\n",
    "\n",
    "    gold = [13, 11, 10, 9, 8, 8, 6, 5, 4, 4, 4, 3, 3, 2, 2, 2, 1, 1, 1, 1, 1, 0, 0, 0, 0, 0]\n",
    "    silver = [11, 5, 10, 7, 7, 6, 3, 0, 8, 4, 1, 4, 3, 7, 4, 2, 4, 3, 1, 0, 0, 2, 2, 2, 1, 0]\n",
    "    bronze = [9, 10, 5, 12, 9, 5, 2, 1, 5, 7, 1, 2, 2, 6, 2, 4, 3, 1, 2, 1, 0, 6, 2, 1, 0, 1]\n",
    "\n",
    "    \n",
    "    points_gold = numpy.dot(gold, 4)\n",
    "    points_silver = numpy.dot(silver, 2)\n",
    "    points_bronze = numpy.dot(bronze, 1)\n",
    "    total = points_gold + points_silver + points_bronze\n",
    "    \n",
    "    # YOUR CODE HERE\n",
    "    olympic_points_df = DataFrame({\n",
    "            'country_name': Series(countries),\n",
    "            'points': Series(total)\n",
    "        })\n",
    "    \n",
    "    return olympic_points_df"
   ]
  },
  {
   "cell_type": "code",
   "execution_count": 19,
   "metadata": {
    "collapsed": false
   },
   "outputs": [
    {
     "name": "stdout",
     "output_type": "stream",
     "text": [
      "      country_name  points\n",
      "0     Russian Fed.      83\n",
      "1           Norway      64\n",
      "2           Canada      65\n",
      "3    United States      62\n",
      "4      Netherlands      55\n",
      "5          Germany      49\n",
      "6      Switzerland      32\n",
      "7          Belarus      21\n",
      "8          Austria      37\n",
      "9           France      31\n",
      "10          Poland      19\n",
      "11           China      22\n",
      "12           Korea      20\n",
      "13          Sweden      28\n",
      "14  Czech Republic      18\n",
      "15        Slovenia      16\n",
      "16           Japan      15\n",
      "17         Finland      11\n",
      "18   Great Britain       8\n",
      "19         Ukraine       5\n",
      "20        Slovakia       4\n",
      "21           Italy      10\n",
      "22          Latvia       6\n",
      "23       Australia       5\n",
      "24         Croatia       2\n",
      "25      Kazakhstan       1\n"
     ]
    }
   ],
   "source": [
    "print (numpy_dot())"
   ]
  },
  {
   "cell_type": "code",
   "execution_count": null,
   "metadata": {
    "collapsed": true
   },
   "outputs": [],
   "source": []
  }
 ],
 "metadata": {
  "kernelspec": {
   "display_name": "Python [Root]",
   "language": "python",
   "name": "Python [Root]"
  },
  "language_info": {
   "codemirror_mode": {
    "name": "ipython",
    "version": 3
   },
   "file_extension": ".py",
   "mimetype": "text/x-python",
   "name": "python",
   "nbconvert_exporter": "python",
   "pygments_lexer": "ipython3",
   "version": "3.5.2"
  }
 },
 "nbformat": 4,
 "nbformat_minor": 0
}
