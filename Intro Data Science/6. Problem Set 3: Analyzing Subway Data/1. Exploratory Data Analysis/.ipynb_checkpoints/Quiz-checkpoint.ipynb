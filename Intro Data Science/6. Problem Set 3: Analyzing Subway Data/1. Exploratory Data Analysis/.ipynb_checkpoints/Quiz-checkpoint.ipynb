{
 "cells": [
  {
   "cell_type": "markdown",
   "metadata": {},
   "source": [
    "# Quiz: 1 - Exploratory Data Analysis\n",
    "\n",
    "Before we perform any analysis, it might be useful to take a\n",
    "look at the data we're hoping to analyze. More specifically, let's \n",
    "examine the hourly entries in our NYC subway data and determine what\n",
    "distribution the data follows. This data is stored in a dataframe\n",
    "called turnstile_weather under the ['ENTRIESn_hourly'] column.\n",
    "    \n",
    "Let's plot two histograms on the same axes to show hourly\n",
    "entries when raining vs. when not raining. Here's an example on how\n",
    "to plot histograms with pandas and matplotlib:\n",
    "turnstile_weather['column_to_graph'].hist()\n",
    "    \n",
    "Your histogram may look similar to bar graph in the instructor notes below.\n",
    "You can read a bit about using matplotlib and pandas to plot histograms here:\n",
    "\n",
    "http://pandas.pydata.org/pandas-docs/stable/visualization.html#histograms\n",
    "   \n",
    "You can see the information contained within the turnstile weather data here:\n",
    "\n",
    "https://s3.amazonaws.com/content.udacity-data.com/courses/ud359/turnstile_data_master_with_weather.csv\n",
    "    \n",
    "\n",
    "### Libraries\n",
    "* [numpy](http://www.numpy.org/)\n",
    "* [matplotlib.pyplot](https://matplotlib.org/users/pyplot_tutorial.html)\n",
    "* [pandas](http://pandas.pydata.org/)"
   ]
  },
  {
   "cell_type": "code",
   "execution_count": 45,
   "metadata": {
    "collapsed": true
   },
   "outputs": [],
   "source": [
    "import numpy as np\n",
    "import pandas as pd\n",
    "import matplotlib.pyplot as plt\n",
    "\n",
    "def entries_histogram(turnstile_weather):\n",
    "    turnstile_weather['ENTRIESn_hourly'][turnstile_weather['rain'] == 0].hist(bins=28,range=[0,6000], facecolor='blue', label='No Rain')\n",
    "    turnstile_weather['ENTRIESn_hourly'][turnstile_weather['rain'] == 1].hist(bins=25,range=[0,6000], facecolor='green', label='Rain')\n",
    "    plt.xlabel('ENTRIESn_hourly')\n",
    "    plt.ylabel('Frequency')\n",
    "    plt.title('Histogram of ENTRIESn_hourly')\n",
    "    plt.axis([0, 6000, 0, 45000])\n",
    "    plt.grid(True)\n",
    "    plt.legend()\n",
    "    return plt\n"
   ]
  },
  {
   "cell_type": "code",
   "execution_count": 46,
   "metadata": {
    "collapsed": false
   },
   "outputs": [],
   "source": [
    "ds = pd.read_csv('turnstile_data_master_with_weather.csv')\n",
    "entries_histogram(ds)\n",
    "plt.show()"
   ]
  }
 ],
 "metadata": {
  "anaconda-cloud": {},
  "kernelspec": {
   "display_name": "Python [Root]",
   "language": "python",
   "name": "Python [Root]"
  },
  "language_info": {
   "codemirror_mode": {
    "name": "ipython",
    "version": 3
   },
   "file_extension": ".py",
   "mimetype": "text/x-python",
   "name": "python",
   "nbconvert_exporter": "python",
   "pygments_lexer": "ipython3",
   "version": "3.5.2"
  }
 },
 "nbformat": 4,
 "nbformat_minor": 0
}
