{
 "cells": [
  {
   "cell_type": "markdown",
   "metadata": {},
   "source": [
    "# Quiz: 1 - Exploratory Data Analysis\n",
    "\n",
    "Before we perform any analysis, it might be useful to take a\n",
    "look at the data we're hoping to analyze. More specifically, let's \n",
    "examine the hourly entries in our NYC subway data and determine what\n",
    "distribution the data follows. This data is stored in a dataframe\n",
    "called turnstile_weather under the ['ENTRIESn_hourly'] column.\n",
    "    \n",
    "Let's plot two histograms on the same axes to show hourly\n",
    "entries when raining vs. when not raining. Here's an example on how\n",
    "to plot histograms with pandas and matplotlib:\n",
    "turnstile_weather['column_to_graph'].hist()\n",
    "    \n",
    "Your histogram may look similar to bar graph in the instructor notes below.\n",
    "You can read a bit about using matplotlib and pandas to plot histograms here:\n",
    "\n",
    "http://pandas.pydata.org/pandas-docs/stable/visualization.html#histograms\n",
    "   \n",
    "You can see the information contained within the turnstile weather data here:\n",
    "\n",
    "https://s3.amazonaws.com/content.udacity-data.com/courses/ud359/turnstile_data_master_with_weather.csv\n",
    "    \n",
    "\n",
    "### Libraries\n",
    "* [numpy](http://www.numpy.org/)\n",
    "* [matplotlib.pyplot](https://matplotlib.org/users/pyplot_tutorial.html)\n",
    "* [pandas](http://pandas.pydata.org/)"
   ]
  },
  {
   "cell_type": "code",
   "execution_count": 4,
   "metadata": {
    "collapsed": true
   },
   "outputs": [],
   "source": [
    "import numpy as np\n",
    "import pandas as pd\n",
    "import matplotlib.pyplot as plt\n",
    "\n",
    "def entries_histogram(turnstile_weather):\n",
    "    ds = pd.read_csv(turnstile_weather)\n",
    "    print (ds.head())\n",
    "    \n",
    "    #plt.figure()\n",
    "    #turnstile_weather['...'] # your code here to plot a historgram for hourly entries when it is raining\n",
    "    #turnstile_weather['...'] # your code here to plot a historgram for hourly entries when it is not raining\n",
    "    return plt\n"
   ]
  },
  {
   "cell_type": "code",
   "execution_count": 5,
   "metadata": {
    "collapsed": false
   },
   "outputs": [
    {
     "name": "stdout",
     "output_type": "stream",
     "text": [
      "   Unnamed: 0  UNIT       DATEn     TIMEn  Hour    DESCn  ENTRIESn_hourly  \\\n",
      "0           0  R001  2011-05-01  01:00:00     1  REGULAR              0.0   \n",
      "1           1  R001  2011-05-01  05:00:00     5  REGULAR            217.0   \n",
      "2           2  R001  2011-05-01  09:00:00     9  REGULAR            890.0   \n",
      "3           3  R001  2011-05-01  13:00:00    13  REGULAR           2451.0   \n",
      "4           4  R001  2011-05-01  17:00:00    17  REGULAR           4400.0   \n",
      "\n",
      "   EXITSn_hourly  maxpressurei  maxdewpti   ...     meandewpti  meanpressurei  \\\n",
      "0            0.0         30.31       42.0   ...           39.0          30.27   \n",
      "1          553.0         30.31       42.0   ...           39.0          30.27   \n",
      "2         1262.0         30.31       42.0   ...           39.0          30.27   \n",
      "3         3708.0         30.31       42.0   ...           39.0          30.27   \n",
      "4         2501.0         30.31       42.0   ...           39.0          30.27   \n",
      "\n",
      "   fog  rain  meanwindspdi  mintempi  meantempi  maxtempi  precipi  thunder  \n",
      "0  0.0   0.0           5.0      50.0       60.0      69.0      0.0      0.0  \n",
      "1  0.0   0.0           5.0      50.0       60.0      69.0      0.0      0.0  \n",
      "2  0.0   0.0           5.0      50.0       60.0      69.0      0.0      0.0  \n",
      "3  0.0   0.0           5.0      50.0       60.0      69.0      0.0      0.0  \n",
      "4  0.0   0.0           5.0      50.0       60.0      69.0      0.0      0.0  \n",
      "\n",
      "[5 rows x 22 columns]\n",
      "<module 'matplotlib.pyplot' from '/home/murillo/anaconda3/lib/python3.5/site-packages/matplotlib/pyplot.py'>\n"
     ]
    }
   ],
   "source": [
    "print (entries_histogram('turnstile_data_master_with_weather.csv'))"
   ]
  }
 ],
 "metadata": {
  "kernelspec": {
   "display_name": "Python [Root]",
   "language": "python",
   "name": "Python [Root]"
  },
  "language_info": {
   "codemirror_mode": {
    "name": "ipython",
    "version": 3
   },
   "file_extension": ".py",
   "mimetype": "text/x-python",
   "name": "python",
   "nbconvert_exporter": "python",
   "pygments_lexer": "ipython3",
   "version": "3.5.2"
  }
 },
 "nbformat": 4,
 "nbformat_minor": 0
}
