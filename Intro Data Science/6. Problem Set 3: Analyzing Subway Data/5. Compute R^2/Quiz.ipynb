{
 "cells": [
  {
   "cell_type": "markdown",
   "metadata": {},
   "source": [
    "# Quiz 7 - Compute R^2\n",
    "\n",
    "In exercise 5, we calculated the R^2 value for you. But why don't you try and\n",
    "and calculate the R^2 value yourself.\n",
    "    \n",
    "Given a list of original data points, and also a list of predicted data points,\n",
    "write a function that will compute and return the coefficient of determination (R^2)\n",
    "for this data.  numpy.mean() and numpy.sum() might both be useful here, but\n",
    "not necessary.\n",
    "\n",
    "Documentation about numpy.mean() and numpy.sum() below:\n",
    "\n",
    "http://docs.scipy.org/doc/numpy/reference/generated/numpy.mean.html\n",
    "\n",
    "http://docs.scipy.org/doc/numpy/reference/generated/numpy.sum.html\n",
    "\n",
    "<img src=\"http://www.statisticshowto.com/wp-content/uploads/2009/11/pearsons-300x156.gif\" />\n",
    "\n",
    "### Libraries\n",
    "* [numpy](http://www.numpy.org/)\n",
    "* [scipy](https://www.scipy.org/)\n",
    "* [matplotlib.pyplot](https://matplotlib.org/users/pyplot_tutorial.html)\n",
    "* [math](https://docs.python.org/2/library/math.html)"
   ]
  },
  {
   "cell_type": "code",
   "execution_count": 1,
   "metadata": {
    "collapsed": true
   },
   "outputs": [],
   "source": [
    "import numpy as np\n",
    "import scipy\n",
    "import matplotlib.pyplot as plt\n",
    "import sys\n",
    "import math as m\n",
    "\n",
    "def compute_r_squared(data, predictions):    \n",
    "    n = len(data)\n",
    "    sum_x = np.sum(data)\n",
    "    sum_y = np.sum(predictions)\n",
    "    sum_xy = np.sum(data * predictions)\n",
    "    \n",
    "    r_dividend = (n * sum_xy - (sum_x * sum_y))\n",
    "    r_divider = m.sqrt((n * np.sum(data ** 2) - sum_x ** 2) * (n * np.sum(predictions ** 2) - sum_y ** 2))\n",
    "    \n",
    "    r =  r_dividend / r_divider\n",
    "    r_squared = r ** 2\n",
    "    \n",
    "    return r_squared"
   ]
  }
 ],
 "metadata": {
  "kernelspec": {
   "display_name": "Python [Root]",
   "language": "python",
   "name": "Python [Root]"
  },
  "language_info": {
   "codemirror_mode": {
    "name": "ipython",
    "version": 3
   },
   "file_extension": ".py",
   "mimetype": "text/x-python",
   "name": "python",
   "nbconvert_exporter": "python",
   "pygments_lexer": "ipython3",
   "version": "3.5.2"
  }
 },
 "nbformat": 4,
 "nbformat_minor": 0
}
