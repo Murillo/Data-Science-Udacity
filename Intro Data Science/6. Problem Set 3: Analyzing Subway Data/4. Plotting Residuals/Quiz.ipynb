{
 "cells": [
  {
   "cell_type": "markdown",
   "metadata": {},
   "source": [
    "# Quiz 6 - Plotting Residuals\n",
    "\n",
    "Using the same methods that we used to plot a histogram of entries\n",
    "per hour for our data, why don't you make a histogram of the residuals\n",
    "(that is, the difference between the original hourly entry data and the predicted values).\n",
    "Try different binwidths for your histogram.\n",
    "\n",
    "Based on this residual histogram, do you have any insight into how our model\n",
    "performed?  Reading a bit on this webpage might be useful:\n",
    "\n",
    "http://www.itl.nist.gov/div898/handbook/pri/section2/pri24.htm\n",
    "\n",
    "### Libraries\n",
    "* [numpy](http://www.numpy.org/)\n",
    "* [scipy](https://www.scipy.org/)\n",
    "* [matplotlib.pyplot](https://matplotlib.org/users/pyplot_tutorial.html)\n",
    "* [pandas](http://pandas.pydata.org/)\n",
    "    "
   ]
  },
  {
   "cell_type": "code",
   "execution_count": 6,
   "metadata": {
    "collapsed": true
   },
   "outputs": [],
   "source": [
    "import numpy as np\n",
    "import scipy\n",
    "import matplotlib.pyplot as plt\n",
    "import pandas as pd\n",
    "\n",
    "def plot_residuals(turnstile_weather, predictions):       \n",
    "    plt.figure()\n",
    "    turnstile_weather['ENTRIESn_hourly'].hist(bins=28,range=[0,6000])\n",
    "    return plt"
   ]
  },
  {
   "cell_type": "code",
   "execution_count": 7,
   "metadata": {
    "collapsed": false
   },
   "outputs": [],
   "source": [
    "ds = pd.read_csv('turnstile_data_master_with_weather.csv')\n",
    "plot_residuals(ds,\"\")\n",
    "plt.show()"
   ]
  }
 ],
 "metadata": {
  "kernelspec": {
   "display_name": "Python [Root]",
   "language": "python",
   "name": "Python [Root]"
  },
  "language_info": {
   "codemirror_mode": {
    "name": "ipython",
    "version": 3
   },
   "file_extension": ".py",
   "mimetype": "text/x-python",
   "name": "python",
   "nbconvert_exporter": "python",
   "pygments_lexer": "ipython3",
   "version": "3.5.2"
  }
 },
 "nbformat": 4,
 "nbformat_minor": 0
}
